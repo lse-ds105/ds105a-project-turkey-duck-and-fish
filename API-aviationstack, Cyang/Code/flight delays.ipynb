{
 "cells": [
  {
   "cell_type": "markdown",
   "metadata": {},
   "source": [
    "test 1"
   ]
  },
  {
   "cell_type": "markdown",
   "metadata": {},
   "source": [
    "Import basic preparations and config to hide my API key"
   ]
  },
  {
   "cell_type": "code",
   "execution_count": 10,
   "metadata": {},
   "outputs": [],
   "source": [
    "import requests\n",
    "import pandas as pd\n",
    "from pprint import pprint\n",
    "import config\n",
    "from config import api"
   ]
  },
  {
   "cell_type": "markdown",
   "metadata": {},
   "source": [
    "Code to use API to collect data"
   ]
  },
  {
   "cell_type": "code",
   "execution_count": 11,
   "metadata": {},
   "outputs": [
    {
     "name": "stdout",
     "output_type": "stream",
     "text": [
      "   flight_date flight_status  \\\n",
      "0   2023-11-26        active   \n",
      "1   2023-11-26        active   \n",
      "2   2023-11-26        active   \n",
      "3   2023-11-26        active   \n",
      "4   2023-11-26        active   \n",
      "..         ...           ...   \n",
      "95  2023-11-26        active   \n",
      "96  2023-11-26        active   \n",
      "97  2023-11-26        active   \n",
      "98  2023-11-26        active   \n",
      "99  2023-11-26        active   \n",
      "\n",
      "                                            departure  \\\n",
      "0   {'airport': 'Tagbilaran', 'timezone': 'Asia/Ma...   \n",
      "1   {'airport': 'Auckland International', 'timezon...   \n",
      "2   {'airport': 'Melbourne - Tullamarine Airport',...   \n",
      "3   {'airport': 'Melbourne - Tullamarine Airport',...   \n",
      "4   {'airport': 'Melbourne - Tullamarine Airport',...   \n",
      "..                                                ...   \n",
      "95  {'airport': 'Beijing Daxing International Airp...   \n",
      "96  {'airport': 'Kuala Lumpur International Airpor...   \n",
      "97  {'airport': 'Suvarnabhumi International', 'tim...   \n",
      "98  {'airport': 'Suvarnabhumi International', 'tim...   \n",
      "99  {'airport': 'Suvarnabhumi International', 'tim...   \n",
      "\n",
      "                                              arrival  \\\n",
      "0   {'airport': 'Gimhae', 'timezone': 'Asia/Seoul'...   \n",
      "1   {'airport': 'Kuala Lumpur International Airpor...   \n",
      "2   {'airport': 'Suvarnabhumi International', 'tim...   \n",
      "3   {'airport': 'Suvarnabhumi International', 'tim...   \n",
      "4   {'airport': 'Kuala Lumpur International Airpor...   \n",
      "..                                                ...   \n",
      "95  {'airport': 'Kota-Kinabalu International Airpo...   \n",
      "96  {'airport': 'Kansai International', 'timezone'...   \n",
      "97  {'airport': 'Kansai International', 'timezone'...   \n",
      "98  {'airport': 'Gimhae', 'timezone': 'Asia/Seoul'...   \n",
      "99  {'airport': 'Mactan-Cebu International', 'time...   \n",
      "\n",
      "                                              airline  \\\n",
      "0          {'name': None, 'iata': 'H1', 'icao': 'H1'}   \n",
      "1    {'name': 'Firefly', 'iata': 'FY', 'icao': 'FFM'}   \n",
      "2   {'name': 'Austrian', 'iata': 'OS', 'icao': 'AUA'}   \n",
      "3      {'name': 'El Al', 'iata': 'LY', 'icao': 'ELY'}   \n",
      "4   {'name': 'Oman Air', 'iata': 'WY', 'icao': 'OMA'}   \n",
      "..                                                ...   \n",
      "95   {'name': 'AirAsia', 'iata': 'AK', 'icao': 'AXM'}   \n",
      "96  {'name': 'AirAsia X', 'iata': 'D7', 'icao': 'X...   \n",
      "97  {'name': 'Peach Aviation', 'iata': 'MM', 'icao...   \n",
      "98  {'name': 'Jeju Air', 'iata': '7C', 'icao': 'JJA'}   \n",
      "99  {'name': 'Philippine Airlines', 'iata': 'PR', ...   \n",
      "\n",
      "                                               flight  \\\n",
      "0   {'number': '9921', 'iata': 'H19921', 'icao': '...   \n",
      "1   {'number': '7170', 'iata': 'FY7170', 'icao': '...   \n",
      "2   {'number': '8638', 'iata': 'OS8638', 'icao': '...   \n",
      "3   {'number': '8420', 'iata': 'LY8420', 'icao': '...   \n",
      "4   {'number': '5554', 'iata': 'WY5554', 'icao': '...   \n",
      "..                                                ...   \n",
      "95  {'number': '1561', 'iata': 'AK1561', 'icao': '...   \n",
      "96  {'number': '532', 'iata': 'D7532', 'icao': 'XA...   \n",
      "97  {'number': '92', 'iata': 'MM92', 'icao': 'APJ9...   \n",
      "98  {'number': '2252', 'iata': '7C2252', 'icao': '...   \n",
      "99  {'number': '739', 'iata': 'PR739', 'icao': 'PA...   \n",
      "\n",
      "                                             aircraft  \\\n",
      "0                                                None   \n",
      "1                                                None   \n",
      "2                                                None   \n",
      "3                                                None   \n",
      "4                                                None   \n",
      "..                                                ...   \n",
      "95  {'registration': '9M-RAP', 'iata': 'A20N', 'ic...   \n",
      "96                                               None   \n",
      "97  {'registration': 'JA902P', 'iata': 'A21N', 'ic...   \n",
      "98  {'registration': 'HL8261', 'iata': 'B738', 'ic...   \n",
      "99                                               None   \n",
      "\n",
      "                                                 live  \n",
      "0                                                None  \n",
      "1                                                None  \n",
      "2                                                None  \n",
      "3                                                None  \n",
      "4                                                None  \n",
      "..                                                ...  \n",
      "95  {'updated': '2023-11-25T20:52:21+00:00', 'lati...  \n",
      "96                                               None  \n",
      "97  {'updated': '2023-11-25T18:44:42+00:00', 'lati...  \n",
      "98  {'updated': '2023-11-25T21:19:55+00:00', 'lati...  \n",
      "99                                               None  \n",
      "\n",
      "[100 rows x 8 columns]\n"
     ]
    }
   ],
   "source": [
    "api_key = config.api\n",
    "url = 'http://api.aviationstack.com/v1/flights'\n",
    "\n",
    "params = {\n",
    "    'access_key': api_key,\n",
    "    'flight_status': 'active',\n",
    "}\n",
    "\n",
    "response = requests.get(url, params=params)\n",
    "\n",
    "if response.status_code == 200:\n",
    "    data = response.json()\n",
    "    \n",
    "    if 'data' in data:\n",
    "        df = pd.DataFrame(data['data'])\n",
    "        print(df)\n",
    "    else:\n",
    "        print(\"No data found in the response.\")\n",
    "else:\n",
    "    print(f\"Error {response.status_code}: {response.text}\")\n"
   ]
  },
  {
   "cell_type": "markdown",
   "metadata": {},
   "source": [
    "Save by specifying saving path"
   ]
  },
  {
   "cell_type": "code",
   "execution_count": 12,
   "metadata": {},
   "outputs": [],
   "source": [
    "import os\n",
    "\n",
    "folder_name = 'delay data'\n",
    "folder_path = os.path.join(os.pardir, folder_name)\n",
    "file_path = os.path.join(folder_path, 'Nov.26Day_delay.csv')\n",
    "\n",
    "df.to_csv(file_path, index=False)\n",
    "\n"
   ]
  }
 ],
 "metadata": {
  "kernelspec": {
   "display_name": "Python 3",
   "language": "python",
   "name": "python3"
  },
  "language_info": {
   "codemirror_mode": {
    "name": "ipython",
    "version": 3
   },
   "file_extension": ".py",
   "mimetype": "text/x-python",
   "name": "python",
   "nbconvert_exporter": "python",
   "pygments_lexer": "ipython3",
   "version": "3.10.6"
  }
 },
 "nbformat": 4,
 "nbformat_minor": 2
}
