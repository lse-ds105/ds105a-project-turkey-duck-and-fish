{
 "cells": [
  {
   "cell_type": "markdown",
   "metadata": {},
   "source": [
    "**Acknowledge of AI usage: 1: The IATA codes are processed with Chatgpt to the specific format: ['ATL', 'PEK', ...]**  \n",
    "**2: For the second part. The code will crush/terminate if there is an error \"index out of range\". Fixed by adding a \"try\" and \"except\" loop, which is inspired by Chatgpt.**"
   ]
  },
  {
   "cell_type": "markdown",
   "metadata": {},
   "source": [
    "## Scraping Popular airport data"
   ]
  },
  {
   "cell_type": "markdown",
   "metadata": {},
   "source": [
    "Preparations"
   ]
  },
  {
   "cell_type": "code",
   "execution_count": null,
   "metadata": {},
   "outputs": [],
   "source": [
    "import requests\n",
    "import pandas as pd\n",
    "from pprint import pprint\n",
    "\n",
    "from scrapy import Selector"
   ]
  },
  {
   "cell_type": "markdown",
   "metadata": {},
   "source": [
    "Define all websites and all IATA airports code"
   ]
  },
  {
   "cell_type": "code",
   "execution_count": null,
   "metadata": {},
   "outputs": [],
   "source": [
    "base_url = 'https://www.flightstats.com/v2/airport-conditions/'\n",
    "airport_IATA_code = ['ATL', 'PEK', 'DXB', 'LAX', 'HND', 'LHR', 'ORD', 'HKG', 'CDG', 'DFW', 'FRA', 'DEN', 'BKK', 'SIN', 'AMS', 'ICN', 'SFO', 'DEL', 'JFK', 'SYD', 'MUC', 'LAS', \n",
    "                     'SEA', 'YYZ', 'ZRH', 'DOH', 'IST', 'MNL', 'FCO', 'DWC', 'YVR', 'SAN', 'BCN', 'DAL', 'MSP', 'PVG', 'DTW', 'MIA', 'AUH', 'CLT', 'MAN', 'PHX', 'BRU', 'MCO', \n",
    "                     'EWR', 'CGK', 'BOM', 'BOS', 'GRU', 'LGW', 'FLL', 'AYT', 'SAW', 'CUN', 'CPT', 'JED', 'RUH', 'DUB', 'YYC', 'AKL', 'LIS', 'HEL', 'MXP', 'JNB', 'MAD', 'MEX', 'NRT',]\n",
    "full_url = []\n",
    "for i in airport_IATA_code:\n",
    "    full_url.append(base_url + i)"
   ]
  },
  {
   "cell_type": "code",
   "execution_count": null,
   "metadata": {},
   "outputs": [],
   "source": [
    "airport_names = []\n",
    "weather_condition = []\n",
    "wind_condition = []\n",
    "visibility_condition = []\n",
    "delay_status = []\n",
    "for i in full_url:\n",
    "    response = requests.get(i)\n",
    "    if response.status_code == 200:\n",
    "        sel = Selector(text=response.text)\n",
    "        \n",
    "        titles = sel.css('h1.col-md-12 ::text').getall()\n",
    "        figure = f = sel.css('div.col-sm-12 ::text').getall()\n",
    "        degrees = f[4]+f[5]+f[6]+f[7]+f[8]+f[9]+f[10]+f[11]\n",
    "        winds = f[12]+f[13]+f[14]\n",
    "        visibility = f[17]+f[18]+f[19]\n",
    "        status = sel.css('span.delay-status-phase-trend ::text').getall()\n",
    "        \n",
    "        airport_names.append(titles)\n",
    "        weather_condition.append(degrees)\n",
    "        wind_condition.append(winds)\n",
    "        visibility_condition.append(visibility)\n",
    "        delay_status.append(status)"
   ]
  },
  {
   "cell_type": "code",
   "execution_count": null,
   "metadata": {},
   "outputs": [],
   "source": [
    "import pandas as pd\n",
    "\n",
    "dataframe = {\n",
    "    'Airport Name': airport_names,\n",
    "    'Weather Condition': weather_condition,\n",
    "    'Wind Condition': wind_condition,\n",
    "    'Visibility Condition': visibility_condition,\n",
    "    'Delay Status': delay_status,\n",
    "}\n",
    "\n",
    "df = pd.DataFrame(dataframe)\n",
    "\n",
    "# Save to CSV\n",
    "df.to_csv('Nov.29_popular_airport_data.csv', index=False)\n"
   ]
  },
  {
   "cell_type": "markdown",
   "metadata": {},
   "source": [
    "## Scraping all airport data"
   ]
  },
  {
   "cell_type": "code",
   "execution_count": null,
   "metadata": {},
   "outputs": [],
   "source": [
    "all_airport_IATA = ['ATL', 'PEK', 'DXB', 'LAX', 'AAT', 'AHJ', 'AKA', 'AOG', 'AQG', 'AYN', 'BPE', 'BAV', 'BHY', 'BPX', 'BSD', 'CAN', 'CDE', 'CGD', 'CGO', 'CGQ', 'CHG', 'CHW', 'CIF', 'CIH', 'CKG', \n",
    " 'CNI', 'CSX', 'CTU', 'CZX', 'DAT', 'DAX', 'DCY', 'DDG', 'DIG', 'DLC', 'DLU', 'DNH', 'DOY', 'DQA', 'DSN', 'DYG', 'EHU', 'ENH', 'ENY', 'ERL', 'FUG', 'FUO', 'FOC', 'FYJ', 'FYN', \n",
    " 'GHN', 'GOQ', 'GYS', 'HAK', 'HDG', 'HEK', 'HET', 'HFE', 'HGH', 'HIA', 'HJJ', 'HQL', 'HRE', 'HRB', 'HSN', 'HTN', 'HTT', 'HUZ', 'HYN', 'HZA', 'HZG', 'INC', 'IQM', 'IQN', 'JDZ', \n",
    " 'JGN', 'JGS', 'JHG', 'JIC', 'JIL', 'JIU', 'JJN', 'JMU', 'JNG', 'JNZ', 'JSJ', 'JUZ', 'JZH', 'KCA', 'KHG', 'KHH', 'KHN', 'KJI', 'KMG', 'KOW', 'KRL', 'KRY', 'KWE', 'KWL', 'LCX', \n",
    " 'LFQ', 'LHW', 'LJG', 'LLV', 'LNJ', 'LUM', 'LXA', 'LYA', 'LYG', 'LYI', 'LZH', 'LZO', 'MDG', 'MFM', 'MIG', 'MXZ', 'NAO', 'NAY', 'NBS', 'NDG', 'NGB', 'NGQ', 'NKG', 'NLT', 'NNG', \n",
    " 'NNY', 'NTG', 'NZH', 'OHE', 'PEK', 'PKX', 'PVG', 'PZI', 'RKZ', 'RLK', 'RMQ', 'SHA', 'SHE', 'SHF', 'SHS', 'SJW', 'SWA', 'SYM', 'SYX', 'SZX', 'SZV', 'TAO', 'TCG', 'TCZ', 'TEN', \n",
    " 'TGO', 'TNA', 'TNH', 'TPE', 'TSA', 'TSN', 'TXN', 'TYN', 'URC', 'UYN', 'WEF', 'WEH', 'WNZ', 'WUA', 'WUH', 'WUS', 'WUX', 'WUZ', 'WXN', 'XFN', 'XIA', 'XIC', 'XIL', 'XIY', 'XMN', \n",
    " 'XNN', 'XUZ', 'YBP', 'YCU', 'YIH', 'YIN', 'YIW', 'YKH', 'YNJ', 'YNT', 'YNZ', 'YTY', 'YUS', 'YYA', 'ZAT', 'ZHA', 'ZUH', 'ZYI', 'CGK', 'DPS', 'BTJ', 'BDO', 'BPN', 'NRT', 'HND', \n",
    " 'KIX', 'ITM', 'NGO', 'FUK', 'KOJ', 'SDJ', 'HIJ', 'NGS', 'CTS', 'OKA', 'GMP', 'ICN', 'PUS', 'CJU', 'KWJ', 'DIL', 'BWN', 'FNJ', 'WOS', 'RGO', 'YJS', 'VTE', 'ULN', 'DMK', 'BKK', \n",
    " 'HKT', 'CNX', 'NST', 'SGN', 'HAN', 'CXR', 'MNL', 'SIN', 'KUL', 'BKI', 'PEN', 'KTM', 'PBH', 'MLE', 'DEL', 'BOM', 'MAA', 'CCU', 'HYD', 'BLR', 'COK', 'RGN', 'MDL', 'NYT', 'ISB', \n",
    " 'KHI', 'LHE', 'PNH', 'REP', 'DAC', 'TSE', 'ALA', 'AKX', 'KGF', 'DMB', 'SCO', 'KZO', 'TAS', 'SKD', 'AZN', 'FRU', 'OSS', 'DYU', 'LBD', 'ASB', 'KRW', 'DXB', 'AUH', 'SHJ', 'RUH', \n",
    " 'DMM', 'JED', 'TLV', 'HFA', 'JRS', 'MCT', 'SAH', 'ADE', 'SCT', 'BGW', 'BSR', 'EBL', 'KWI', 'DAM', 'ALP', 'BEY', 'AMM', 'EVN', 'DOH', 'BAH', 'TBS', 'ESB', 'IST', 'IZM', 'AYT', \n",
    " 'THR', 'TBZ', 'GYD', 'YOW', 'YUL', 'YVR', 'YYZ', 'YQB', 'IAD', 'DCA', 'JFK', 'LAX', 'ORD', 'MDW', 'BOS', 'SFO', 'SEA', 'DEN', 'LAS', 'CLE', 'ATL', 'DTW', 'DFW', 'MIA', 'IAH', \n",
    " 'HOU', 'MCO', 'PHX', 'PHL', 'SLC', 'GOH', 'MEX', 'SDQ', 'PAP', 'KIN', 'SCL', 'LIM', 'UIO', 'PTY', 'NAS', 'SJO', 'BOG', 'CCS', 'EZE', 'USH', 'PBM', 'CAY', 'GRU', 'VCP', 'GIG', \n",
    " 'CWB', 'BSB', 'ASU', 'MVD', 'LHR', 'LTN', 'LGW', 'MAN', 'EDI', 'CWL', 'DUB', 'AMS', 'RTM', 'EIN', 'CPH', 'ARN', 'OSL', 'HEL', 'BRU', 'MUC', 'TXL', 'FRA', 'BRE', 'STR', 'HAM', \n",
    " 'CGN', 'HHN', 'CDG', 'LIL', 'MRS', 'LYS', 'ZRH', 'GVA', 'MAD', 'BCN', 'VLC', 'LIS', 'OPO', 'FCO', 'MXP', 'VCE', 'NAP', 'FLR', 'GOA', 'TRN', 'MLA', 'PRG', 'BTS', 'BUD', 'LUX', \n",
    " 'VIE', 'SZG', 'LNZ', 'INN', 'BUH', 'BEG', 'PRN', 'TGD', 'SJJ', 'ZAG', 'WAW', 'ATH', 'SVO', 'LED', 'AER', 'KZN', 'VVO', 'HTA', 'TJM', 'VVO', 'KHV', 'UUD', 'SOF', 'MSQ', 'KBP', \n",
    " 'IEV', 'DNK', 'ODS', 'TLL', 'RIX', 'VNO', 'CAI', 'RBA', 'TIP', 'TUN', 'SID', 'DKR', 'ASK', 'ABJ', 'CKY', 'KRT', 'JUB', 'ADD', 'JIB', 'ASM', 'BKO', 'EDJ', 'GAQ', 'MGQ', 'NDJ', \n",
    " 'BGF', 'YAO', 'JNB', 'CPT', 'HRE', 'JRO', 'DAR', 'NBO', 'LAD', 'CAB', 'ALG', 'ABV', 'MDI', 'KAN', 'LOS', 'FIH', 'BZV', 'LUN', 'MPM', 'LLW', 'MRU', 'TNR', 'CBR', 'MEL', 'SYD', \n",
    " 'ADL', 'DRW', 'WLG', 'AKL', 'CHC', 'POM', 'WLG', 'AKL', 'CHC', 'POM', 'VLI', 'HIR', 'HNP', 'NAN', 'SUV', 'INU', 'ROR']"
   ]
  },
  {
   "cell_type": "code",
   "execution_count": null,
   "metadata": {},
   "outputs": [],
   "source": [
    "all_url = []\n",
    "for i in all_airport_IATA:\n",
    "    all_url.append(base_url + i)"
   ]
  },
  {
   "cell_type": "code",
   "execution_count": null,
   "metadata": {},
   "outputs": [],
   "source": [
    "pprint(all_url)"
   ]
  },
  {
   "cell_type": "code",
   "execution_count": null,
   "metadata": {},
   "outputs": [],
   "source": [
    "airport_names2 = []\n",
    "weather_condition2 = []\n",
    "wind_condition2 = []\n",
    "visibility_condition2 = []\n",
    "delay_status2 = []\n",
    "\n",
    "for i in all_url:\n",
    "    response = requests.get(i)\n",
    "    if response.status_code == 200:\n",
    "        sel = Selector(text=response.text)\n",
    "\n",
    "        titles2 = sel.css('h1.col-md-12 ::text').getall()\n",
    "        figure2 = sel.css('div.col-sm-12 ::text').getall()\n",
    "\n",
    "        try:\n",
    "            degrees2 = figure2[4] + figure2[5] + figure2[6] + figure2[7] + figure2[8] + figure2[9] + figure2[10] + figure2[11]\n",
    "            winds2 = figure2[12] + figure2[13] + figure2[14]\n",
    "            visibility2 = figure2[17] + figure2[18] + figure2[19]\n",
    "        except IndexError:\n",
    "            print(f\"Skipping {i} due to IndexError\")\n",
    "            continue\n",
    "\n",
    "        status2 = sel.css('span.delay-status-phase-trend ::text').getall()\n",
    "\n",
    "        airport_names2.append(titles2)\n",
    "        weather_condition2.append(degrees2)\n",
    "        wind_condition2.append(winds2)\n",
    "        visibility_condition2.append(visibility2)\n",
    "        delay_status2.append(status2)\n"
   ]
  },
  {
   "cell_type": "code",
   "execution_count": null,
   "metadata": {},
   "outputs": [],
   "source": [
    "dataframe = {\n",
    "    'Airport Name': airport_names2,\n",
    "    'Weather Condition': weather_condition2,\n",
    "    'Wind Condition': wind_condition2,\n",
    "    'Visibility Condition': visibility_condition2,\n",
    "    'Delay Status': delay_status2,\n",
    "}\n",
    "\n",
    "df = pd.DataFrame(dataframe)\n",
    "\n",
    "# Save to CSV\n",
    "df.to_csv('Nov.29_all_airport_data.csv', index=False)"
   ]
  }
 ],
 "metadata": {
  "kernelspec": {
   "display_name": "Python 3",
   "language": "python",
   "name": "python3"
  },
  "language_info": {
   "codemirror_mode": {
    "name": "ipython",
    "version": 3
   },
   "file_extension": ".py",
   "mimetype": "text/x-python",
   "name": "python",
   "nbconvert_exporter": "python",
   "pygments_lexer": "ipython3",
   "version": "3.10.6"
  }
 },
 "nbformat": 4,
 "nbformat_minor": 2
}
