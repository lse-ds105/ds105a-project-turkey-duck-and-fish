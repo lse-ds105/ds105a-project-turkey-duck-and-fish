{
 "cells": [
  {
   "cell_type": "markdown",
   "metadata": {},
   "source": [
    "#### Announcement of AI tool usage:  \n",
    "#### in Part 2 of this notebook, this project was inspired by Chatgpt in how to solve the problem of \"unneeded information (like runway or time) if there is no delay happening\""
   ]
  },
  {
   "cell_type": "markdown",
   "metadata": {},
   "source": [
    "#### Part 0: preparations and reading data  \n",
    "##### **please unzip the file data.rar to read the data**"
   ]
  },
  {
   "cell_type": "code",
   "execution_count": 10,
   "metadata": {},
   "outputs": [],
   "source": [
    "import requests\n",
    "import pandas as pd\n",
    "from pprint import pprint\n",
    "import config\n",
    "from config import api\n",
    "import os\n",
    "from io import StringIO\n",
    "\n",
    "# Specify the folder path\n",
    "folder_path = '../Data/data.csv'\n",
    "\n",
    "df = pd.read_csv(folder_path)"
   ]
  },
  {
   "cell_type": "markdown",
   "metadata": {},
   "source": [
    "#### Part 1: Filtering initial data source to have Airport IATA  \n",
    "##### Extract the information from 'airport' to the 1st comma"
   ]
  },
  {
   "cell_type": "code",
   "execution_count": 11,
   "metadata": {},
   "outputs": [],
   "source": [
    "df['departure airport IATA'] = df['departure'].apply(lambda x: x.split(',')[0][1:-1])\n",
    "df['arrival airport IATA'] = df['arrival'].apply(lambda x: x.split(',')[0][1:-1])\n",
    "airport_IATA_df = df[['departure airport IATA', 'arrival airport IATA']]\n",
    "\n",
    "# Save file to Data Folder\n",
    "folder_name = 'Data'\n",
    "folder_path = os.path.join(os.pardir, folder_name)\n",
    "file_path = os.path.join(folder_path, 'Airport_IATA.csv')\n",
    "\n",
    "airport_IATA_df.to_csv(file_path, index=False)"
   ]
  },
  {
   "cell_type": "markdown",
   "metadata": {},
   "source": [
    "#### Part 2: Filtering initial data source to have Delay Time  \n",
    "##### Extract the information starting from the 4th comma, all the way to the 5th comma, which is the info for \"actual delay\""
   ]
  },
  {
   "cell_type": "code",
   "execution_count": 12,
   "metadata": {},
   "outputs": [],
   "source": [
    "df['delay in mins'] = df['departure'].apply(lambda x: (x.split(',')[4:5] + [None])[0] if x else None)\n",
    "# substitude info with 'delay': N/A if no delay info is detected\n",
    "df['delay in mins'] = df['delay in mins'].apply(lambda info: 'None' if info is None or ('Time' in info or 'Runway' in info) else info)\n",
    "\n",
    "delay_df = df['delay in mins']\n",
    "\n",
    "folder_name = 'Data'\n",
    "folder_path = os.path.join(os.pardir, folder_name)\n",
    "file_path = os.path.join(folder_path, 'Delay.csv')\n",
    "\n",
    "delay_df.to_csv(file_path, index=False)"
   ]
  },
  {
   "cell_type": "markdown",
   "metadata": {},
   "source": [
    "#### Code to collect the estimated delay: subtracting estimated Time by scheduled Time"
   ]
  },
  {
   "cell_type": "code",
   "execution_count": 14,
   "metadata": {},
   "outputs": [],
   "source": [
    "# Function to extract scheduled time from departure details\n",
    "def extract_scheduled_time(row):\n",
    "    departure_details = eval(row['departure'])\n",
    "    return pd.to_datetime(departure_details.get('scheduledTime', pd.NaT))\n",
    "\n",
    "# Function to extract estimated time from departure details\n",
    "def extract_estimated_time(row):\n",
    "    departure_details = eval(row['departure'])\n",
    "    return pd.to_datetime(departure_details.get('estimatedTime', pd.NaT))\n",
    "\n",
    "# Extract relevant information using the defined functions\n",
    "df['scheduledTime'] = df.apply(extract_scheduled_time, axis=1)\n",
    "df['estimatedTime'] = df.apply(extract_estimated_time, axis=1)\n",
    "df['estimatedDelay'] = (df['estimatedTime'] - df['scheduledTime']).dt.total_seconds() / 60.0\n",
    "estimated_delay_df = df['estimatedDelay']\n",
    "\n",
    "folder_name = 'Data'\n",
    "folder_path = os.path.join(os.pardir, folder_name)\n",
    "file_path = os.path.join(folder_path, 'Estimated_Delay.csv')\n",
    "estimated_delay_df.to_csv(file_path, index=False)\n"
   ]
  },
  {
   "cell_type": "markdown",
   "metadata": {},
   "source": [
    "#### Part 3: Filtering initial data source to have Airline Companies\n",
    "##### Extract the information in column \"airline\" until it meets the 1st comma"
   ]
  },
  {
   "cell_type": "code",
   "execution_count": 13,
   "metadata": {},
   "outputs": [],
   "source": [
    "df['Airline Company'] = df['airline'].apply(lambda x: x.split(',')[0][1:-1])\n",
    "airline_df = df['Airline Company']\n",
    "\n",
    "folder_name = 'Data'\n",
    "folder_path = os.path.join(os.pardir, folder_name)\n",
    "file_path = os.path.join(folder_path, 'Airline_Companies.csv')\n",
    "\n",
    "airline_df.to_csv(file_path, index=False)"
   ]
  },
  {
   "cell_type": "markdown",
   "metadata": {},
   "source": [
    "#### Part 4: filtering data to have Date Information"
   ]
  },
  {
   "cell_type": "code",
   "execution_count": 15,
   "metadata": {},
   "outputs": [],
   "source": [
    "df['scheduledTime'] = df['scheduledTime'].astype(str)\n",
    "df['month_day'] = df['scheduledTime'].str.extract(r'-(\\d{2}-\\d{2})')\n",
    "date_df = df['month_day']\n",
    "\n",
    "folder_name = 'Data'\n",
    "folder_path = os.path.join(os.pardir, folder_name)\n",
    "file_path = os.path.join(folder_path, 'Date_Info.csv')\n",
    "\n",
    "date_df.to_csv(file_path, index=False)"
   ]
  },
  {
   "cell_type": "markdown",
   "metadata": {},
   "source": [
    "#### Part 5: Create a new DF that merges all info attained above"
   ]
  },
  {
   "cell_type": "code",
   "execution_count": 16,
   "metadata": {},
   "outputs": [],
   "source": [
    "final_df = df[['departure airport IATA', 'arrival airport IATA', 'delay in mins', 'estimatedDelay', 'Airline Company', 'month_day']]\n",
    "\n",
    "folder_name = 'Final Data'\n",
    "folder_path = os.path.join(os.pardir, folder_name)\n",
    "file_path = os.path.join(folder_path, 'final_data.csv')\n",
    "final_df.to_csv(file_path, index=False)"
   ]
  }
 ],
 "metadata": {
  "kernelspec": {
   "display_name": "Python 3",
   "language": "python",
   "name": "python3"
  },
  "language_info": {
   "codemirror_mode": {
    "name": "ipython",
    "version": 3
   },
   "file_extension": ".py",
   "mimetype": "text/x-python",
   "name": "python",
   "nbconvert_exporter": "python",
   "pygments_lexer": "ipython3",
   "version": "3.10.6"
  }
 },
 "nbformat": 4,
 "nbformat_minor": 2
}
