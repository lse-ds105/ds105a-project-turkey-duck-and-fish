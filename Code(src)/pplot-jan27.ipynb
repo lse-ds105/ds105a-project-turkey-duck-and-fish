{
 "cells": [
  {
   "cell_type": "markdown",
   "metadata": {},
   "source": [
    "# Beginning Set-up"
   ]
  },
  {
   "cell_type": "code",
   "execution_count": 29,
   "metadata": {},
   "outputs": [],
   "source": [
    "import pandas as pd\n",
    "\n",
    "folder_path = '../Final Data/final_data.csv'\n",
    "\n",
    "df = pd.read_csv(folder_path)"
   ]
  },
  {
   "cell_type": "code",
   "execution_count": 30,
   "metadata": {},
   "outputs": [
    {
     "name": "stdout",
     "output_type": "stream",
     "text": [
      "       departure airport IATA arrival airport IATA delay in mins  \\\n",
      "0            'iataCode': 'atl     'iataCode': 'rsw   'delay': 12   \n",
      "1            'iataCode': 'atl     'iataCode': 'sat   'delay': 12   \n",
      "2            'iataCode': 'atl     'iataCode': 'sat   'delay': 12   \n",
      "3            'iataCode': 'atl     'iataCode': 'sat   'delay': 12   \n",
      "4            'iataCode': 'atl     'iataCode': 'sat   'delay': 12   \n",
      "...                       ...                  ...           ...   \n",
      "732874       'iataCode': 'nrt     'iataCode': 'icn   'delay': 20   \n",
      "732875       'iataCode': 'nrt     'iataCode': 'ceb   'delay': 28   \n",
      "732876       'iataCode': 'nrt     'iataCode': 'lax           NaN   \n",
      "732877       'iataCode': 'nrt     'iataCode': 'cvg           NaN   \n",
      "732878       'iataCode': 'nrt     'iataCode': 'anc           NaN   \n",
      "\n",
      "        estimatedDelay            Airline Company month_day  \n",
      "0                 12.0   'name': 'delta air lines     09-01  \n",
      "1                 -1.0          'name': 'alitalia     08-31  \n",
      "2                 -1.0               'name': 'klm     08-31  \n",
      "3                 -1.0    'name': 'latam airlines     08-31  \n",
      "4                 -1.0   'name': 'virgin atlantic     08-31  \n",
      "...                ...                        ...       ...  \n",
      "732874             8.0            'name': 'zipair     09-10  \n",
      "732875             4.0  'name': 'cebu pacific air     09-10  \n",
      "732876            10.0   'name': 'polar air cargo     09-09  \n",
      "732877            10.0         'name': 'aerologic     09-09  \n",
      "732878            20.0      'name': 'ups airlines     09-09  \n",
      "\n",
      "[732879 rows x 6 columns]\n"
     ]
    }
   ],
   "source": [
    "print(df)"
   ]
  },
  {
   "cell_type": "code",
   "execution_count": 31,
   "metadata": {},
   "outputs": [],
   "source": [
    "df['delay in mins'] = pd.to_numeric(df['delay in mins'].replace({\"'delay':\": \"\"}, regex=True).astype(float), errors='coerce')\n",
    "df['estimatedDelay'] = pd.to_numeric(df['estimatedDelay'].replace(\"'delay':\", ''), errors='coerce')\n",
    "df['departure airport IATA'] = df['departure airport IATA'].str.replace(\"'iataCode': '\", '').astype(str)\n",
    "df['arrival airport IATA'] = df['arrival airport IATA'].str.replace(\"'iataCode': '\", '').astype(str)\n",
    "df['Airline Company'] = df['Airline Company'].str.replace(\"'name': '\", '').astype(str)\n"
   ]
  },
  {
   "cell_type": "code",
   "execution_count": 32,
   "metadata": {},
   "outputs": [
    {
     "name": "stdout",
     "output_type": "stream",
     "text": [
      "       departure airport IATA arrival airport IATA  delay in mins  \\\n",
      "0                         atl                  rsw           12.0   \n",
      "1                         atl                  sat           12.0   \n",
      "2                         atl                  sat           12.0   \n",
      "3                         atl                  sat           12.0   \n",
      "4                         atl                  sat           12.0   \n",
      "...                       ...                  ...            ...   \n",
      "732874                    nrt                  icn           20.0   \n",
      "732875                    nrt                  ceb           28.0   \n",
      "732876                    nrt                  lax            NaN   \n",
      "732877                    nrt                  cvg            NaN   \n",
      "732878                    nrt                  anc            NaN   \n",
      "\n",
      "        estimatedDelay   Airline Company month_day  \n",
      "0                 12.0   delta air lines     09-01  \n",
      "1                 -1.0          alitalia     08-31  \n",
      "2                 -1.0               klm     08-31  \n",
      "3                 -1.0    latam airlines     08-31  \n",
      "4                 -1.0   virgin atlantic     08-31  \n",
      "...                ...               ...       ...  \n",
      "732874             8.0            zipair     09-10  \n",
      "732875             4.0  cebu pacific air     09-10  \n",
      "732876            10.0   polar air cargo     09-09  \n",
      "732877            10.0         aerologic     09-09  \n",
      "732878            20.0      ups airlines     09-09  \n",
      "\n",
      "[732879 rows x 6 columns]\n"
     ]
    }
   ],
   "source": [
    "print(df)"
   ]
  },
  {
   "cell_type": "markdown",
   "metadata": {},
   "source": [
    "# Data Visualization"
   ]
  },
  {
   "cell_type": "markdown",
   "metadata": {},
   "source": [
    "## Exhibit 1 - Does departure delay necessarily mean an arrival delay? \n",
    "\n",
    "By limiting our data to historical record of the specific flight that the passenger will take, the plot gives an estimation of arrival delay based on the departure delay. \n",
    "\n",
    "Although most routes have departure delay and arrival delay with a positive and 1:1 correlation to each other, some routes do not! The arrival delay is not always positive, which means that even if there is departure delay, sometimes the plane catches up mid air so that it arrives earlier than scheduled time. "
   ]
  },
  {
   "cell_type": "markdown",
   "metadata": {},
   "source": [
    "### Exhibit 1.1 - World Wide Data"
   ]
  },
  {
   "cell_type": "code",
   "execution_count": null,
   "metadata": {},
   "outputs": [],
   "source": [
    "import pandas as pd\n",
    "import plotly.express as px\n",
    "\n",
    "fig = px.scatter(df, x='delay in mins', y='estimatedDelay', color='arrival airport IATA', color_discrete_sequence=['gray'])\n",
    "\n",
    "fig.update_layout(xaxis_title=\"Departure delay\", yaxis_title=\"Arrival delay\")\n",
    "\n",
    "fig.update_layout(title=\"All Arrival Airport's Arrival vs. Departure Delay\")\n",
    "\n",
    "fig.show()"
   ]
  },
  {
   "cell_type": "markdown",
   "metadata": {},
   "source": [
    "### Exhibit 1.2 - Arrival Airport Specific"
   ]
  },
  {
   "cell_type": "code",
   "execution_count": null,
   "metadata": {},
   "outputs": [],
   "source": [
    "import pandas as pd\n",
    "import plotly.express as px\n",
    "\n",
    "arrival_airport_input = input(\"Enter arrival airport (e.g., LAX): \")\n",
    "\n",
    "fig = px.scatter(df, x='delay in mins', y='estimatedDelay', color='arrival airport IATA', color_discrete_sequence=['gray'])\n",
    "\n",
    "fig.update_traces(marker=dict(color='red'), selector=dict(name=arrival_airport_input))\n",
    "\n",
    "fig.update_layout(xaxis_title=\"Departure delay\", yaxis_title=\"Arrival delay\")\n",
    "\n",
    "fig.update_layout(title=\"{input_airport} Airport's Arrival vs. Departure Delay\")\n",
    "\n",
    "fig.show()"
   ]
  },
  {
   "cell_type": "markdown",
   "metadata": {},
   "source": [
    "### Exhibit 1.3 - What about my airline? "
   ]
  },
  {
   "cell_type": "code",
   "execution_count": null,
   "metadata": {},
   "outputs": [],
   "source": [
    "# Check if there are any matching records\n",
    "input_airline = input(\"Enter the Airline (e.g., Delta Air Lines): \")\n",
    "x_column = 'delay in mins'\n",
    "y_column = 'estimatedDelay'\n",
    "\n",
    "filtered_df = df[(df['Airline Company'] == input_airline)]\n",
    "                 \n",
    "if filtered_df.empty:\n",
    "    print(\"No matching records found.\")\n",
    "else:\n",
    "    # Create a scatter plot with trendline using Plotly Express\n",
    "    fig_delay = px.scatter(filtered_df, x='delay in mins', y='estimatedDelay', title=f'Scatter Plot of Departure Delay vs Arrival Delay by Airline',\n",
    "                  labels={'delay in mins': 'Departure Delay', 'estimatedDelay': 'Arrival Delay'},\n",
    "                  hover_name='arrival airport IATA',\n",
    "                  hover_data={'arrival airport IATA': False, 'delay in mins': True, 'estimatedDelay': True},\n",
    "                  )\n",
    "\n",
    "    # Display the plot\n",
    "    fig_delay.show()"
   ]
  },
  {
   "cell_type": "markdown",
   "metadata": {},
   "source": [
    "### Exhibit 1.4 - What about my specific flights? "
   ]
  },
  {
   "cell_type": "code",
   "execution_count": null,
   "metadata": {},
   "outputs": [],
   "source": [
    "import pandas as pd\n",
    "import plotly.express as px\n",
    "\n",
    "# User input for departure airport, airline, and destination airport\n",
    "departure_airport = input(\"Enter departure airport (e.g., ATL): \")\n",
    "airline = input(\"Enter airline (e.g., Delta Air Lines): \")\n",
    "destination_airport = input(\"Enter destination airport (e.g., RSW): \")\n",
    "\n",
    "# Filter the dataframe based on user input\n",
    "filtered_df = df[(df['departure airport IATA'] == departure_airport) &\n",
    "                 (df['Airline Company'] == airline) &\n",
    "                 (df['arrival airport IATA'] == destination_airport)]\n",
    "\n",
    "# Check if there are any matching records\n",
    "if filtered_df.empty:\n",
    "    print(\"No matching records found.\")\n",
    "else:\n",
    "    # Create a scatter plot with trendline using Plotly Express\n",
    "    fig_delay = px.scatter(filtered_df, x='delay in mins', y='estimatedDelay', title=f'Arrival vs. Departure delay for {airline.upper()} Airline to {destination_airport.upper()}',\n",
    "                  labels={'delay in mins': 'Departure Delay', 'estimatedDelay': 'Arrival Delay'},\n",
    "                  hover_name='arrival airport IATA',\n",
    "                  hover_data={'arrival airport IATA': False, 'delay in mins': True, 'estimatedDelay': True},\n",
    "                  trendline='ols'  # Ordinary Least Squares\n",
    "                  )\n",
    "\n",
    "    # Display the plot\n",
    "    fig_delay.show()"
   ]
  },
  {
   "cell_type": "markdown",
   "metadata": {},
   "source": [
    "## Exhibit 2 - Which airport has the most severe delays? \n",
    "\n",
    "By checking the airport that the passenger is flying out of, the plot shows how does one's destination airport compares to other airports in terms of delays."
   ]
  },
  {
   "cell_type": "code",
   "execution_count": null,
   "metadata": {},
   "outputs": [],
   "source": [
    "# Get user inputs\n",
    "user_departure_airport = input(\"Enter the departure airport IATA code: \").strip()\n",
    "\n",
    "# Filter for flights departing from the specified airport\n",
    "df_user_departure = df[df['departure airport IATA'].str.contains(user_departure_airport, na=False)]\n",
    "# Extract the actual airport code from the strings in the 'arrival airport IATA' column\n",
    "\n",
    "# Create a DataFrame with average estimatedDelay for each arrival airport\n",
    "average_delay_df = df_user_departure.groupby('arrival airport IATA').agg({'estimatedDelay': 'mean'}).reset_index()\n",
    "\n",
    "print (average_delay_df)"
   ]
  },
  {
   "cell_type": "code",
   "execution_count": null,
   "metadata": {},
   "outputs": [],
   "source": [
    "folder_path_airports = '../Data/airports.csv'\n",
    "airports_df = pd.read_csv(folder_path_airports)\n",
    "airports_df[['longitude', 'latitude']] = airports_df['location'].str.extract(r'(-?\\d+\\.\\d+) (-?\\d+\\.\\d+)')\n",
    "airports_df = airports_df[['code', 'longitude', 'latitude']]\n",
    "airports_df['code'] = airports_df['code'].str.lower()"
   ]
  },
  {
   "cell_type": "code",
   "execution_count": null,
   "metadata": {},
   "outputs": [],
   "source": [
    "merged_df = average_delay_df.merge(airports_df, left_on='arrival airport IATA', right_on='code', how='left')\n",
    "\n",
    "# Drop the redundant columns\n",
    "merged_df = merged_df[['arrival airport IATA', 'estimatedDelay', 'longitude', 'latitude']]\n",
    "\n",
    "# Print the resulting DataFrame\n",
    "print(merged_df)"
   ]
  },
  {
   "cell_type": "code",
   "execution_count": null,
   "metadata": {},
   "outputs": [],
   "source": [
    "import geopandas as gpd\n",
    "import matplotlib.pyplot as plt\n",
    "worldmap = gpd.read_file(gpd.datasets.get_path(\"naturalearth_lowres\"))"
   ]
  },
  {
   "cell_type": "code",
   "execution_count": null,
   "metadata": {},
   "outputs": [],
   "source": [
    "# start plotting the graph and the legend\n",
    "import pandas as pd\n",
    "import geopandas as gpd\n",
    "import matplotlib.pyplot as plt\n",
    "from matplotlib.colors import TwoSlopeNorm\n",
    "\n",
    "# Geopanda functions - match our longitude and latitude with the geopanda commands \n",
    "globe_df = gpd.GeoDataFrame(merged_df, geometry=gpd.points_from_xy(merged_df['longitude'], merged_df['latitude']))\n",
    "\n",
    "# Determine the color range and normalization-- this is important because otherwise the values will go from 0 to 100, while we have negative numbers \n",
    "vmin = merged_df['estimatedDelay'].min()\n",
    "vmax = merged_df['estimatedDelay'].max()\n",
    "\n",
    "# Use viridis because it provides the largest degree of color variation\n",
    "cmap = 'viridis'\n",
    "\n",
    "# Plot the data points onto the world map \n",
    "fig, ax = plt.subplots(figsize=(12, 6)) \n",
    "worldmap.plot(color=\"lightgrey\", ax=ax)\n",
    "\n",
    "# Plot the points with different colors based on the magnitude of estimatedDelay\n",
    "scatter = globe_df.plot(ax=ax, markersize=20, alpha=0.7, c=merged_df['estimatedDelay'], cmap=cmap, vmin=vmin, vmax=vmax)\n",
    "\n",
    "# Add a colorbar, annotate it with the min and max numbers from the table \n",
    "cbar = plt.colorbar(scatter.get_children()[0], ax=ax, orientation='vertical', label=f'Delay (Hours) - Min: {vmin}, Max: {vmax}', ticks=[vmin, vmax])\n",
    "\n",
    "# Creating axis limits and title \n",
    "plt.xlim([-180, 180]) \n",
    "plt.ylim([-90, 90])\n",
    "plt.xlabel(\"Longitude\")\n",
    "plt.ylabel(\"Latitude\")\n",
    "plt.title(\"Estimated Delay Points on World Map\")\n",
    "plt.show()"
   ]
  },
  {
   "cell_type": "markdown",
   "metadata": {},
   "source": [
    "# Exhibit 3 - Which airline should you buy a ticket from? "
   ]
  },
  {
   "cell_type": "code",
   "execution_count": null,
   "metadata": {},
   "outputs": [],
   "source": [
    "import pandas as pd\n",
    "import plotly.express as px\n",
    "\n",
    "# User input for departure airport and arrival airport\n",
    "departure_airport = input(\"Enter departure airport (e.g., ATL): \")\n",
    "arrival_airport = input(\"Enter arrival airport (e.g., RSW): \")\n",
    "\n",
    "# Filter the dataframe based on user input\n",
    "filtered_df3 = df[(df['departure airport IATA'] == departure_airport) &\n",
    "                 (df['arrival airport IATA'] == arrival_airport)]\n",
    "\n",
    "average_delay_by_airline = filtered_df3.groupby('Airline Company')['estimatedDelay'].mean().reset_index()\n",
    "\n",
    "# Check if there are any matching records\n",
    "if filtered_df3.empty:\n",
    "    print(\"No matching records found.\")\n",
    "else:\n",
    "    fig_delay3 = px.bar(average_delay_by_airline, x='estimatedDelay', y='Airline Company', title=f'Average Delay for each Airline from {departure_airport} to {arrival_airport}',\n",
    "                  labels={'estimatedDelay': 'Average Departure Delay', 'Airline Company': 'Airline Company'})\n",
    "\n",
    "fig_delay3.show()"
   ]
  },
  {
   "cell_type": "markdown",
   "metadata": {},
   "source": [
    "# Exhibit 4 - When is it going to take off? \n"
   ]
  },
  {
   "cell_type": "code",
   "execution_count": null,
   "metadata": {},
   "outputs": [],
   "source": [
    "import pandas as pd\n",
    "import matplotlib.pyplot as plt\n",
    "import scipy.stats as stats\n",
    "import seaborn as sns\n",
    "\n",
    "# Assuming your dataset is stored in 'sample_final_data.csv'\n",
    "# df = pd.read_csv('sample_final_data.csv')\n",
    "\n",
    "# User input for departure airport, arrival airport, and airline\n",
    "departure_airport = input(\"Enter departure airport (e.g., ATL): \")\n",
    "arrival_airport = input(\"Enter arrival airport (e.g., RSW): \")\n",
    "# airline = input(\"Enter airline (e.g., Delta Air Lines): \")\n",
    "\n",
    "# Filter the dataframe based on user input\n",
    "filtered_df = df[(df['departure airport IATA'] == departure_airport) &\n",
    "                 (df['arrival airport IATA'] == arrival_airport) ]\n",
    "                 #(df['Airline Company'] == airline)"
   ]
  },
  {
   "cell_type": "code",
   "execution_count": null,
   "metadata": {},
   "outputs": [
    {
     "name": "stdout",
     "output_type": "stream",
     "text": [
      "Mean Departure Delay: 39.13492063492063 minutes\n",
      "Standard Deviation: 54.46970916422555 minutes\n"
     ]
    }
   ],
   "source": [
    "# Check if there are any matching records\n",
    "if filtered_df.empty:\n",
    "    print(\"No matching records found.\")\n",
    "else:\n",
    "    # Calculate mean departure delay and standard deviation\n",
    "    mean_delay = filtered_df['delay in mins'].mean()\n",
    "    std_dev = filtered_df['delay in mins'].std()\n",
    "\n",
    "    # Print the mean delay and standard deviation\n",
    "    print(f\"Mean Departure Delay: {mean_delay} minutes\")\n",
    "    print(f\"Standard Deviation: {std_dev} minutes\")\n"
   ]
  },
  {
   "cell_type": "code",
   "execution_count": null,
   "metadata": {},
   "outputs": [
    {
     "name": "stdout",
     "output_type": "stream",
     "text": [
      "Probability of plane departing within 15 minutes: 0.3915\n",
      "Probability of plane departing within 30 minutes: 0.2909\n",
      "Probability of plane departing within 60 minutes: 0.1353\n"
     ]
    },
    {
     "data": {
      "image/png": "[encoded data removed]",
      "text/plain": [
       "<Figure size 1200x800 with 1 Axes>"
      ]
     },
     "metadata": {},
     "output_type": "display_data"
    }
   ],
   "source": [
    "# good, don't touch\n",
    "import scipy.stats as stats\n",
    "\n",
    "# Probability calculations for being late by 5, 10, and 15 minutes from 0 on the x-axis\n",
    "probabilities = [1 - stats.norm.cdf(15, loc=0, scale=std_dev),\n",
    "                 1 - stats.norm.cdf(30, loc=0, scale=std_dev),\n",
    "                 1 - stats.norm.cdf(60, loc=0, scale=std_dev)]\n",
    "\n",
    "# Print probabilities\n",
    "print(f\"Probability of plane departing within 15 minutes: {probabilities[0]:.4f}\")\n",
    "print(f\"Probability of plane departing within 30 minutes: {probabilities[1]:.4f}\")\n",
    "print(f\"Probability of plane departing within 60 minutes: {probabilities[2]:.4f}\")\n",
    "\n",
    "# Create a standard normal distribution plot\n",
    "plt.figure(figsize=(12, 8))\n",
    "sns.histplot(filtered_df['delay in mins'], kde=True, stat='density', color='skyblue')\n",
    "plt.title('Standard Normal Distribution of Departure Delay')\n",
    "plt.xlabel('Departure Delay (minutes)')\n",
    "plt.ylabel('Density')\n",
    "\n",
    "# Plot vertical lines for mean and 1 standard deviation\n",
    "plt.axvline(mean_delay, color='red', linestyle='dashed', linewidth=2, label='Mean')\n",
    "plt.axvline(mean_delay + std_dev, color='green', linestyle='dashed', linewidth=2, label='Mean + 1 Std Dev')\n",
    "# plt.axvline(mean_delay - std_dev, color='green', linestyle='dashed', linewidth=2, label='Mean - 1 Std Dev')\n",
    "\n",
    "# Show legend\n",
    "plt.legend()\n",
    "\n",
    "# Display the plot\n",
    "plt.show()\n"
   ]
  }
 ],
 "metadata": {
  "kernelspec": {
   "display_name": "Python 3",
   "language": "python",
   "name": "python3"
  },
  "language_info": {
   "codemirror_mode": {
    "name": "ipython",
    "version": 3
   },
   "file_extension": ".py",
   "mimetype": "text/x-python",
   "name": "python",
   "nbconvert_exporter": "python",
   "pygments_lexer": "ipython3",
   "version": "3.11.4"
  }
 },
 "nbformat": 4,
 "nbformat_minor": 2
}
