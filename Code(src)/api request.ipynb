{
 "cells": [
  {
   "cell_type": "markdown",
   "metadata": {},
   "source": [
    "#### Part 0: Importing Modules\n",
    "Note: config.py is \"git-ignored\" to protect secure api information."
   ]
  },
  {
   "cell_type": "code",
   "execution_count": 1,
   "metadata": {},
   "outputs": [],
   "source": [
    "import requests\n",
    "import pandas as pd\n",
    "from pprint import pprint\n",
    "import config\n",
    "from config import api"
   ]
  },
  {
   "cell_type": "markdown",
   "metadata": {},
   "source": [
    "#### Part 1: Defining IATA Airport Codes"
   ]
  },
  {
   "cell_type": "code",
   "execution_count": 2,
   "metadata": {},
   "outputs": [],
   "source": [
    "IATA_code = ['ATL', 'PEK', 'DXB', 'LAX', 'HND', 'LHR', 'ORD', 'HKG', 'CDG', 'DFW', 'FRA', 'DEN', 'BKK', 'SIN', 'AMS', 'ICN', 'SFO', 'DEL', 'JFK', 'SYD', 'MUC', 'LAS', \n",
    "                     'SEA', 'YYZ', 'ZRH', 'DOH', 'IST', 'MNL', 'FCO', 'DWC', 'YVR', 'SAN', 'BCN', 'DAL', 'MSP', 'PVG', 'DTW', 'MIA', 'AUH', 'CLT', 'MAN', 'PHX', 'BRU', 'MCO', \n",
    "                     'EWR', 'CGK', 'BOM', 'BOS', 'GRU', 'LGW', 'FLL', 'AYT', 'SAW', 'CUN', 'CPT', 'JED', 'RUH', 'DUB', 'YYC', 'AKL', 'LIS', 'HEL', 'MXP', 'JNB', 'MAD', 'MEX', 'NRT',]"
   ]
  },
  {
   "cell_type": "markdown",
   "metadata": {},
   "source": [
    "#### Part 2: Defining URL addresses\n",
    "The format of the url = '........' follows the instruction from the website: https://aviyair.com/documentation/#elementor-toc__heading-anchor-0"
   ]
  },
  {
   "cell_type": "code",
   "execution_count": 19,
   "metadata": {},
   "outputs": [],
   "source": [
    "api_key = config.api\n",
    "url_1 ='https://data.aviyair.com/data/v1/historicalschedule?key='\n",
    "url_2 = '&airport_iata='\n",
    "url_3 = '&type=departure&date_from=2023-09-01&date_to=2023-09-10'\n",
    "\n",
    "full_url = []\n",
    "for IATA in IATA_code:\n",
    "    full_url.append(url_1 + config.api + url_2 + IATA + url_3)\n"
   ]
  },
  {
   "cell_type": "markdown",
   "metadata": {},
   "source": [
    "#### Part 3: Iterating to Collect Initial Data from the Website"
   ]
  },
  {
   "cell_type": "code",
   "execution_count": 20,
   "metadata": {},
   "outputs": [],
   "source": [
    "final_df = []\n",
    "\n",
    "for i in full_url:\n",
    "    response = requests.get(i)\n",
    "    \n",
    "    if response.status_code == 200:\n",
    "        data = response.json()\n",
    "        df = pd.DataFrame(data)\n",
    "        final_df.append(df)\n",
    "    else:\n",
    "        pass\n",
    "    \n",
    "result_df = pd.concat(final_df)"
   ]
  },
  {
   "cell_type": "markdown",
   "metadata": {},
   "source": [
    "#### Part 4: Saving the Collected Data"
   ]
  },
  {
   "cell_type": "code",
   "execution_count": 21,
   "metadata": {},
   "outputs": [],
   "source": [
    "import os\n",
    "\n",
    "folder_name = 'Data'\n",
    "folder_path = os.path.join(os.pardir, folder_name)\n",
    "file_path = os.path.join(folder_path, 'data.csv')\n",
    "\n",
    "result_df.to_csv(file_path, index=False)"
   ]
  },
  {
   "cell_type": "markdown",
   "metadata": {},
   "source": [
    "**Note: The file data.csv is too large to be uploaded to Github, therefore it is compressed to a '.rar' file to upload.**"
   ]
  }
 ],
 "metadata": {
  "kernelspec": {
   "display_name": "Python 3",
   "language": "python",
   "name": "python3"
  },
  "language_info": {
   "codemirror_mode": {
    "name": "ipython",
    "version": 3
   },
   "file_extension": ".py",
   "mimetype": "text/x-python",
   "name": "python",
   "nbconvert_exporter": "python",
   "pygments_lexer": "ipython3",
   "version": "3.11.4"
  }
 },
 "nbformat": 4,
 "nbformat_minor": 2
}
