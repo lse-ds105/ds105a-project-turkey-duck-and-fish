{
 "cells": [
  {
   "cell_type": "code",
   "execution_count": null,
   "metadata": {},
   "outputs": [],
   "source": [
    "import requests\n",
    "import pandas as pd\n",
    "from pprint import pprint\n",
    "import config\n",
    "from config import api\n",
    "import os"
   ]
  },
  {
   "cell_type": "markdown",
   "metadata": {},
   "source": [
    "### The format of the url = '........' should follow the instruction on website:  \n",
    "https://aviyair.com/documentation/#elementor-toc__heading-anchor-0"
   ]
  },
  {
   "cell_type": "code",
   "execution_count": null,
   "metadata": {},
   "outputs": [],
   "source": [
    "api_key = config.api\n",
    "url = 'https://data.aviyair.com/data/v1/historicalschedule?key='+ config.api +'&airport_iata=JFK&type=departure&date_from=2023-08-01&date_to=2023-08-02&limit=100'\n",
    "\n",
    "response = requests.get(url)\n",
    "response\n",
    "\n",
    "data = response.json()\n",
    "df = pd.DataFrame(data)\n",
    "print(df)"
   ]
  },
  {
   "cell_type": "code",
   "execution_count": null,
   "metadata": {},
   "outputs": [],
   "source": [
    "import os\n",
    "\n",
    "folder_name = 'Data'\n",
    "folder_path = os.path.join(os.pardir, folder_name)\n",
    "file_path = os.path.join(folder_path, 'JFK.csv')\n",
    "\n",
    "df.to_csv(file_path, index=False)"
   ]
  },
  {
   "cell_type": "markdown",
   "metadata": {},
   "source": [
    "### problem 1: I still could not access the delay section since it always reports route error or access denied.  \n",
    "### problem 2: I cant find the place to login to the aviyair account  "
   ]
  }
 ],
 "metadata": {
  "kernelspec": {
   "display_name": "Python 3",
   "language": "python",
   "name": "python3"
  },
  "language_info": {
   "codemirror_mode": {
    "name": "ipython",
    "version": 3
   },
   "file_extension": ".py",
   "mimetype": "text/x-python",
   "name": "python",
   "nbconvert_exporter": "python",
   "pygments_lexer": "ipython3",
   "version": "3.10.6"
  }
 },
 "nbformat": 4,
 "nbformat_minor": 2
}
