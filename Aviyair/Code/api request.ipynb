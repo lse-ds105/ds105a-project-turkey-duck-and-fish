{
 "cells": [
  {
   "cell_type": "code",
   "execution_count": null,
   "metadata": {},
   "outputs": [],
   "source": [
    "import requests\n",
    "import pandas as pd\n",
    "from pprint import pprint\n",
    "import config\n",
    "from config import api\n",
    "import os"
   ]
  },
  {
   "cell_type": "markdown",
   "metadata": {},
   "source": [
    "### The format of the url = '........' should follow the instruction on website:  \n",
    "https://aviyair.com/documentation/#elementor-toc__heading-anchor-0"
   ]
  },
  {
   "cell_type": "code",
   "execution_count": null,
   "metadata": {},
   "outputs": [],
   "source": [
    "IATA_code = ['ATL', 'PEK', 'DXB', 'LAX', 'HND', 'LHR', 'ORD', 'HKG', 'CDG', 'DFW', 'FRA', 'DEN', 'BKK', 'SIN', 'AMS', 'ICN', 'SFO', 'DEL', 'JFK', 'SYD', 'MUC', 'LAS', \n",
    "                     'SEA', 'YYZ', 'ZRH', 'DOH', 'IST', 'MNL', 'FCO', 'DWC', 'YVR', 'SAN', 'BCN', 'DAL', 'MSP', 'PVG', 'DTW', 'MIA', 'AUH', 'CLT', 'MAN', 'PHX', 'BRU', 'MCO', \n",
    "                     'EWR', 'CGK', 'BOM', 'BOS', 'GRU', 'LGW', 'FLL', 'AYT', 'SAW', 'CUN', 'CPT', 'JED', 'RUH', 'DUB', 'YYC', 'AKL', 'LIS', 'HEL', 'MXP', 'JNB', 'MAD', 'MEX', 'NRT',]"
   ]
  },
  {
   "cell_type": "code",
   "execution_count": null,
   "metadata": {},
   "outputs": [],
   "source": [
    "api_key = config.api\n",
    "url_1 ='https://data.aviyair.com/data/v1/historicalschedule?key='\n",
    "url_2 = '&airport_iata='\n",
    "url_3 = '&type=departure&date_from=2023-09-01&date_to=2023-09-02'\n",
    "\n",
    "full_url = []\n",
    "for i in IATA_code:\n",
    "    full_url.append(url_1 + config.api + url_2 + i + url_3)\n"
   ]
  },
  {
   "cell_type": "code",
   "execution_count": null,
   "metadata": {},
   "outputs": [],
   "source": [
    "pprint(full_url)"
   ]
  },
  {
   "cell_type": "code",
   "execution_count": null,
   "metadata": {},
   "outputs": [],
   "source": [
    "final_df = []\n",
    "\n",
    "for i in full_url:\n",
    "    response = requests.get(i)\n",
    "    \n",
    "    if response.status_code == 200:\n",
    "        data = response.json()\n",
    "        df = pd.DataFrame(data)\n",
    "        final_df.append(df)\n",
    "    else:\n",
    "        pass\n",
    "    \n",
    "result_df = pd.concat(final_df)"
   ]
  },
  {
   "cell_type": "code",
   "execution_count": null,
   "metadata": {},
   "outputs": [],
   "source": [
    "import os\n",
    "\n",
    "folder_name = 'Final Data'\n",
    "folder_path = os.path.join(os.pardir, folder_name)\n",
    "file_path = os.path.join(folder_path, 'data.csv')\n",
    "\n",
    "result_df.to_csv(file_path, index=False)"
   ]
  },
  {
   "cell_type": "markdown",
   "metadata": {},
   "source": [
    "### problem 1: I still could not access the delay section since it always reports route error or access denied.  \n",
    "### problem 2: I cant find the place to login to the aviyair account  "
   ]
  }
 ],
 "metadata": {
  "kernelspec": {
   "display_name": "Python 3",
   "language": "python",
   "name": "python3"
  },
  "language_info": {
   "codemirror_mode": {
    "name": "ipython",
    "version": 3
   },
   "file_extension": ".py",
   "mimetype": "text/x-python",
   "name": "python",
   "nbconvert_exporter": "python",
   "pygments_lexer": "ipython3",
   "version": "3.10.6"
  }
 },
 "nbformat": 4,
 "nbformat_minor": 2
}
