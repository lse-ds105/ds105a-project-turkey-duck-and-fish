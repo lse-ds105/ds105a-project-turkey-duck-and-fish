{
 "cells": [
  {
   "cell_type": "markdown",
   "metadata": {},
   "source": [
    "# Part 1: split"
   ]
  },
  {
   "cell_type": "markdown",
   "metadata": {},
   "source": [
    "import file"
   ]
  },
  {
   "cell_type": "code",
   "execution_count": 109,
   "metadata": {},
   "outputs": [],
   "source": [
    "import os\n",
    "import pandas as pd\n",
    "from pprint import pprint\n",
    "\n",
    "# Specify the folder path\n",
    "folder_path = './all data.csv'\n",
    "\n",
    "df = pd.read_csv(folder_path)"
   ]
  },
  {
   "cell_type": "markdown",
   "metadata": {},
   "source": [
    "filter data to have companies"
   ]
  },
  {
   "cell_type": "code",
   "execution_count": 110,
   "metadata": {},
   "outputs": [
    {
     "name": "stdout",
     "output_type": "stream",
     "text": [
      "                                              departure  \\\n",
      "0     {'airport': 'Oenpelli', 'timezone': 'Australia...   \n",
      "1     {'airport': 'Sydney Bankstown', 'timezone': 'A...   \n",
      "2     {'airport': 'Haneda Airport', 'timezone': 'Asi...   \n",
      "3     {'airport': 'Taiwan Taoyuan International (Chi...   \n",
      "4     {'airport': 'Ninoy Aquino International', 'tim...   \n",
      "...                                                 ...   \n",
      "1594  {'airport': 'Singapore Changi', 'timezone': 'A...   \n",
      "1595  {'airport': 'Auckland International', 'timezon...   \n",
      "1596  {'airport': 'Auckland International', 'timezon...   \n",
      "1597  {'airport': 'Melbourne - Tullamarine Airport',...   \n",
      "1598  {'airport': 'Melbourne - Tullamarine Airport',...   \n",
      "\n",
      "                                                arrival  \n",
      "0     {'airport': 'Maningrida', 'timezone': 'Austral...  \n",
      "1     {'airport': 'Williamtown', 'timezone': 'Austra...  \n",
      "2     {'airport': 'Hong Kong International', 'timezo...  \n",
      "3     {'airport': 'Singapore Changi', 'timezone': 'A...  \n",
      "4     {'airport': 'Malay', 'timezone': 'Asia/Manila'...  \n",
      "...                                                 ...  \n",
      "1594  {'airport': 'Indira Gandhi International', 'ti...  \n",
      "1595  {'airport': 'Queenstown', 'timezone': 'Pacific...  \n",
      "1596  {'airport': 'Christchurch International', 'tim...  \n",
      "1597  {'airport': 'Brisbane International', 'timezon...  \n",
      "1598  {'airport': 'Singapore Changi', 'timezone': 'A...  \n",
      "\n",
      "[1599 rows x 2 columns]\n"
     ]
    }
   ],
   "source": [
    "import pandas as pd\n",
    "from io import StringIO\n",
    "\n",
    "# Extract the information from 'airport' to the first comma\n",
    "df['departure airport names'] = df['departure'].apply(lambda x: x.split(',')[0][1:-1])\n",
    "df['arrival airport names'] = df['arrival'].apply(lambda x: x.split(',')[0][1:-1])\n",
    "\n",
    "# Display the updated DataFrame\n",
    "print(df[['departure', 'arrival']])\n",
    "\n",
    "# Create a new DataFrame with only 'departure' and 'arrival' columns\n",
    "airpotnames_df = df[['departure airport names', 'arrival airport names']]\n",
    "\n",
    "# Save the new DataFrame to a new CSV file\n",
    "airpotnames_df.to_csv('airport_names.csv', index=False)"
   ]
  },
  {
   "cell_type": "markdown",
   "metadata": {},
   "source": [
    "filter data to have delays"
   ]
  },
  {
   "cell_type": "code",
   "execution_count": 111,
   "metadata": {},
   "outputs": [],
   "source": [
    "# Extract the information starting from 'delay': all the way to the first comma for the 'departure' column\n",
    "df['delay in departure'] = df['departure'].apply(lambda x: x.split('delay\\': ')[1].split(',')[0])\n",
    "df['delay in arrival'] = df['arrival'].apply(lambda x: x.split('delay\\': ')[1].split(',')[0])\n",
    "\n",
    "delay_df = df[['delay in departure', 'delay in arrival']]\n",
    "delay_df.to_csv('airport_delays.csv', index=False)"
   ]
  },
  {
   "cell_type": "markdown",
   "metadata": {},
   "source": [
    "filter data to airway companies"
   ]
  },
  {
   "cell_type": "code",
   "execution_count": 112,
   "metadata": {},
   "outputs": [],
   "source": [
    "df['airline names'] = df['airline'].apply(lambda x: x.split('name\\': ')[1].split(',')[0])\n",
    "\n",
    "airwaynames_df = df[['airline names']]\n",
    "airwaynames_df.to_csv('airway_names.csv', index=False)"
   ]
  },
  {
   "cell_type": "markdown",
   "metadata": {},
   "source": [
    "regions"
   ]
  },
  {
   "cell_type": "code",
   "execution_count": 113,
   "metadata": {},
   "outputs": [],
   "source": [
    "df['departure region'] = df['departure'].apply(lambda x: x.split('timezone\\': ')[1].split(',')[0])\n",
    "df['arrival region'] = df['arrival'].apply(lambda x: x.split('timezone\\': ')[1].split(',')[0])\n",
    "\n",
    "region_df = df[['departure region', 'arrival region']]\n",
    "region_df.to_csv('region.csv', index=False)"
   ]
  },
  {
   "cell_type": "markdown",
   "metadata": {},
   "source": [
    "# Part 2: Analyze"
   ]
  },
  {
   "cell_type": "markdown",
   "metadata": {},
   "source": [
    "### 1: delay data overall"
   ]
  },
  {
   "cell_type": "code",
   "execution_count": 123,
   "metadata": {},
   "outputs": [
    {
     "name": "stdout",
     "output_type": "stream",
     "text": [
      "17.309114927344783\n"
     ]
    }
   ],
   "source": [
    "# convert str to numeric\n",
    "df['delay in departure'] = pd.to_numeric(df['delay in departure'], errors='coerce')\n",
    "#avergae delay in departure:\n",
    "print(df['delay in departure'].mean())"
   ]
  },
  {
   "cell_type": "code",
   "execution_count": 124,
   "metadata": {},
   "outputs": [
    {
     "name": "stdout",
     "output_type": "stream",
     "text": [
      "6.704444444444444\n"
     ]
    }
   ],
   "source": [
    "# convert str to numeric\n",
    "df['delay in arrival'] = pd.to_numeric(df['delay in arrival'], errors='coerce')\n",
    "#avergae delay in departure:\n",
    "print(df['delay in arrival'].mean())"
   ]
  },
  {
   "cell_type": "markdown",
   "metadata": {},
   "source": [
    "### 2: delay data with regions"
   ]
  },
  {
   "cell_type": "markdown",
   "metadata": {},
   "source": [
    "2.1 departures"
   ]
  },
  {
   "cell_type": "code",
   "execution_count": null,
   "metadata": {},
   "outputs": [],
   "source": [
    "df_departure_region =df[['delay in departure',  'departure region']]\n",
    "df_departure_region"
   ]
  },
  {
   "cell_type": "code",
   "execution_count": null,
   "metadata": {},
   "outputs": [],
   "source": [
    "mask_asia = df_departure_region['departure region'].str.contains('Asia', na=False)\n",
    "df_asia_departures = df_departure_region[mask_asia]\n",
    "df_asia_departures['delay in departure'].mean()\n"
   ]
  },
  {
   "cell_type": "code",
   "execution_count": null,
   "metadata": {},
   "outputs": [],
   "source": [
    "mask_aus = df_departure_region['departure region'].str.contains('Australia', na=False)\n",
    "df_aus_departures = df_departure_region[mask_aus]\n",
    "df_aus_departures['delay in departure'].mean()"
   ]
  },
  {
   "cell_type": "code",
   "execution_count": null,
   "metadata": {},
   "outputs": [],
   "source": [
    "mask_pac = df_departure_region['departure region'].str.contains('Pacific', na=False)\n",
    "df_aus_departures = df_departure_region[mask_pac]\n",
    "df_aus_departures['delay in departure'].mean()"
   ]
  },
  {
   "cell_type": "code",
   "execution_count": null,
   "metadata": {},
   "outputs": [],
   "source": [
    "mask_eu = df_departure_region['departure region'].str.contains('Europe', na=False)\n",
    "df_aus_departures = df_departure_region[mask_eu]\n",
    "df_aus_departures['delay in departure'].mean()"
   ]
  },
  {
   "cell_type": "code",
   "execution_count": null,
   "metadata": {},
   "outputs": [],
   "source": [
    "mask_ame = df_departure_region['departure region'].str.contains('America', na=False)\n",
    "df_aus_departures = df_departure_region[mask_ame]\n",
    "df_aus_departures['delay in departure'].mean()"
   ]
  },
  {
   "cell_type": "code",
   "execution_count": null,
   "metadata": {},
   "outputs": [],
   "source": [
    "mask_afr = df_departure_region['departure region'].str.contains('Africa', na=False)\n",
    "df_aus_departures = df_departure_region[mask_afr]\n",
    "df_aus_departures['delay in departure'].mean()"
   ]
  },
  {
   "cell_type": "markdown",
   "metadata": {},
   "source": [
    "ASIA: 18.790226460071512  \n",
    "AUS: 15.44949494949495  \n",
    "Pacific: 14.6640625  \n",
    "Europe: 17.633986928104576  \n",
    "America: 15.333333333333334  \n",
    "Africa: 14.318181818181818  "
   ]
  },
  {
   "cell_type": "markdown",
   "metadata": {},
   "source": [
    "2.2 arrival delays"
   ]
  },
  {
   "cell_type": "code",
   "execution_count": null,
   "metadata": {},
   "outputs": [],
   "source": [
    "df_arrival_region =df[['delay in arrival',  'arrival region']]\n",
    "df_arrival_region"
   ]
  },
  {
   "cell_type": "code",
   "execution_count": null,
   "metadata": {},
   "outputs": [],
   "source": [
    "mask_asia = df_arrival_region['arrival region'].str.contains('Asia', na=False)\n",
    "df_asia_arrival = df_arrival_region[mask_asia]\n",
    "df_asia_arrival['delay in arrival'].mean()"
   ]
  },
  {
   "cell_type": "code",
   "execution_count": null,
   "metadata": {},
   "outputs": [],
   "source": [
    "mask_aus = df_arrival_region['arrival region'].str.contains('Australia', na=False)\n",
    "df_aus_arrival = df_arrival_region[mask_aus]\n",
    "df_aus_arrival['delay in arrival'].mean()"
   ]
  },
  {
   "cell_type": "code",
   "execution_count": null,
   "metadata": {},
   "outputs": [],
   "source": [
    "mask_pac = df_arrival_region['arrival region'].str.contains('Pacific', na=False)\n",
    "df_aus_arrival = df_arrival_region[mask_pac]\n",
    "df_aus_arrival['delay in arrival'].mean()"
   ]
  },
  {
   "cell_type": "code",
   "execution_count": null,
   "metadata": {},
   "outputs": [],
   "source": [
    "mask_eu = df_arrival_region['arrival region'].str.contains('Europe', na=False)\n",
    "df_aus_arrival = df_arrival_region[mask_eu]\n",
    "df_aus_arrival['delay in arrival'].mean()"
   ]
  },
  {
   "cell_type": "code",
   "execution_count": null,
   "metadata": {},
   "outputs": [],
   "source": [
    "mask_ame = df_arrival_region['arrival region'].str.contains('America', na=False)\n",
    "df_aus_arrival = df_arrival_region[mask_ame]\n",
    "df_aus_arrival['delay in arrival'].mean()"
   ]
  },
  {
   "cell_type": "code",
   "execution_count": null,
   "metadata": {},
   "outputs": [],
   "source": [
    "mask_afr = df_arrival_region['arrival region'].str.contains('Africa', na=False)\n",
    "df_aus_arrival = df_arrival_region[mask_afr]\n",
    "df_aus_arrival['delay in arrival'].mean()"
   ]
  },
  {
   "cell_type": "markdown",
   "metadata": {},
   "source": [
    "ASIA: 6.968871595330739  \n",
    "AUS: 6.709090909090909  \n",
    "Pacific: 5.518518518518518  \n",
    "Europe: 6.3125  \n",
    "America: 7.5  \n",
    "Africa: 3.8666666666666667  "
   ]
  },
  {
   "cell_type": "markdown",
   "metadata": {},
   "source": [
    "### 3: delay with companies"
   ]
  },
  {
   "cell_type": "code",
   "execution_count": 114,
   "metadata": {},
   "outputs": [
    {
     "name": "stdout",
     "output_type": "stream",
     "text": [
      "airline\n",
      "'Qantas'                     62\n",
      "'China Eastern Airlines'     55\n",
      "'China Southern Airlines'    52\n",
      "'Singapore Airlines'         45\n",
      "'Air New Zealand'            42\n",
      "'Korean Air'                 30\n",
      "'American Airlines'          30\n",
      "'ANA'                        29\n",
      "'Xiamen Airlines'            26\n",
      "'Delta Air Lines'            26\n",
      "'Shenzhen Airlines'          24\n",
      "'Emirates'                   24\n",
      "'Qatar Airways'              23\n",
      "'Air China LTD'              23\n",
      "'VietJet Air'                21\n",
      "'Etihad Airways'             20\n",
      "'Azul'                       20\n",
      "'KLM'                        20\n",
      "'Shandong Airlines'          19\n",
      "'Cathay Pacific'             19\n",
      "Name: count, dtype: int64\n"
     ]
    }
   ],
   "source": [
    "df_airway_names = pd.read_csv('airway_names.csv', header=None, names=['airline'])\n",
    "\n",
    "frequency_counts = df_airway_names['airline'].value_counts()\n",
    "print(frequency_counts.head(20))\n"
   ]
  },
  {
   "cell_type": "code",
   "execution_count": 127,
   "metadata": {},
   "outputs": [
    {
     "data": {
      "text/html": [
       "<div>\n",
       "<style scoped>\n",
       "    .dataframe tbody tr th:only-of-type {\n",
       "        vertical-align: middle;\n",
       "    }\n",
       "\n",
       "    .dataframe tbody tr th {\n",
       "        vertical-align: top;\n",
       "    }\n",
       "\n",
       "    .dataframe thead th {\n",
       "        text-align: right;\n",
       "    }\n",
       "</style>\n",
       "<table border=\"1\" class=\"dataframe\">\n",
       "  <thead>\n",
       "    <tr style=\"text-align: right;\">\n",
       "      <th></th>\n",
       "      <th>delay in departure</th>\n",
       "      <th>delay in arrival</th>\n",
       "      <th>airline names</th>\n",
       "    </tr>\n",
       "  </thead>\n",
       "  <tbody>\n",
       "    <tr>\n",
       "      <th>0</th>\n",
       "      <td>NaN</td>\n",
       "      <td>NaN</td>\n",
       "      <td>'KLM Cityhopper'</td>\n",
       "    </tr>\n",
       "    <tr>\n",
       "      <th>1</th>\n",
       "      <td>NaN</td>\n",
       "      <td>15.0</td>\n",
       "      <td>'CareFlight'</td>\n",
       "    </tr>\n",
       "    <tr>\n",
       "      <th>2</th>\n",
       "      <td>8.0</td>\n",
       "      <td>NaN</td>\n",
       "      <td>'Cathay Pacific'</td>\n",
       "    </tr>\n",
       "    <tr>\n",
       "      <th>3</th>\n",
       "      <td>5.0</td>\n",
       "      <td>NaN</td>\n",
       "      <td>'Scoot'</td>\n",
       "    </tr>\n",
       "    <tr>\n",
       "      <th>4</th>\n",
       "      <td>14.0</td>\n",
       "      <td>NaN</td>\n",
       "      <td>'Philippine Airlines'</td>\n",
       "    </tr>\n",
       "    <tr>\n",
       "      <th>...</th>\n",
       "      <td>...</td>\n",
       "      <td>...</td>\n",
       "      <td>...</td>\n",
       "    </tr>\n",
       "    <tr>\n",
       "      <th>1594</th>\n",
       "      <td>20.0</td>\n",
       "      <td>NaN</td>\n",
       "      <td>'Singapore Airlines'</td>\n",
       "    </tr>\n",
       "    <tr>\n",
       "      <th>1595</th>\n",
       "      <td>15.0</td>\n",
       "      <td>NaN</td>\n",
       "      <td>'Singapore Airlines'</td>\n",
       "    </tr>\n",
       "    <tr>\n",
       "      <th>1596</th>\n",
       "      <td>15.0</td>\n",
       "      <td>NaN</td>\n",
       "      <td>'EVA Air'</td>\n",
       "    </tr>\n",
       "    <tr>\n",
       "      <th>1597</th>\n",
       "      <td>7.0</td>\n",
       "      <td>NaN</td>\n",
       "      <td>'Air New Zealand'</td>\n",
       "    </tr>\n",
       "    <tr>\n",
       "      <th>1598</th>\n",
       "      <td>1.0</td>\n",
       "      <td>NaN</td>\n",
       "      <td>'SWISS'</td>\n",
       "    </tr>\n",
       "  </tbody>\n",
       "</table>\n",
       "<p>1599 rows × 3 columns</p>\n",
       "</div>"
      ],
      "text/plain": [
       "      delay in departure  delay in arrival          airline names\n",
       "0                    NaN               NaN       'KLM Cityhopper'\n",
       "1                    NaN              15.0           'CareFlight'\n",
       "2                    8.0               NaN       'Cathay Pacific'\n",
       "3                    5.0               NaN                'Scoot'\n",
       "4                   14.0               NaN  'Philippine Airlines'\n",
       "...                  ...               ...                    ...\n",
       "1594                20.0               NaN   'Singapore Airlines'\n",
       "1595                15.0               NaN   'Singapore Airlines'\n",
       "1596                15.0               NaN              'EVA Air'\n",
       "1597                 7.0               NaN      'Air New Zealand'\n",
       "1598                 1.0               NaN                'SWISS'\n",
       "\n",
       "[1599 rows x 3 columns]"
      ]
     },
     "execution_count": 127,
     "metadata": {},
     "output_type": "execute_result"
    }
   ],
   "source": [
    "df_company_names =df[['delay in departure', 'delay in arrival', 'airline names']]\n",
    "df_company_names"
   ]
  },
  {
   "cell_type": "markdown",
   "metadata": {},
   "source": [
    "Change the xxx of ['airline names'] == \"'xxx'\" to real airline names"
   ]
  },
  {
   "cell_type": "code",
   "execution_count": 160,
   "metadata": {},
   "outputs": [],
   "source": [
    "filtered_df = df_company_names[df_company_names['airline names'] == \"'Delta Air Lines'\"]\n"
   ]
  },
  {
   "cell_type": "code",
   "execution_count": 161,
   "metadata": {},
   "outputs": [
    {
     "data": {
      "text/plain": [
       "14.52"
      ]
     },
     "execution_count": 161,
     "metadata": {},
     "output_type": "execute_result"
    }
   ],
   "source": [
    "filtered_df['delay in departure'].mean()"
   ]
  },
  {
   "cell_type": "code",
   "execution_count": 162,
   "metadata": {},
   "outputs": [
    {
     "data": {
      "text/plain": [
       "8.5"
      ]
     },
     "execution_count": 162,
     "metadata": {},
     "output_type": "execute_result"
    }
   ],
   "source": [
    "filtered_df['delay in arrival'].mean()"
   ]
  },
  {
   "cell_type": "markdown",
   "metadata": {},
   "source": [
    "company departure arrival  \n",
    "Qantas: 19.14516129032258, 6.478260869565218  \n",
    "Air New Zealand: 15.463414634146341 7.0  \n",
    "China Eastern Airlines: 15.132075471698114 6.714285714285714  \n",
    "China Southern Airlines: 14.576923076923077 4.916666666666667  \n",
    "Korean Air: 21.633333333333333 4.166666666666667  \n",
    "Singapore Airlines: 20.829268292682926 7.4375  \n",
    "Delta Air Lines: 14.52 8.5 \n",
    "Qatar Airways: 20.695652173913043 8.428571428571429  \n",
    "Emirates: 23.75 5.6  \n",
    "British Airways: 11.583333333333334 12.0  "
   ]
  },
  {
   "cell_type": "markdown",
   "metadata": {},
   "source": [
    "### 3: Delay to airports"
   ]
  },
  {
   "cell_type": "code",
   "execution_count": 167,
   "metadata": {},
   "outputs": [
    {
     "name": "stdout",
     "output_type": "stream",
     "text": [
      "departure airport names\n",
      "'airport': 'Singapore Changi                             57\n",
      "'airport': 'Seoul (Incheon)                              53\n",
      "'airport': 'Kuala Lumpur International Airport (klia)    44\n",
      "'airport': 'Hong Kong International                      39\n",
      "'airport': 'Perth International                          37\n",
      "'airport': 'Melbourne - Tullamarine Airport              35\n",
      "'airport': 'Suvarnabhumi International                   33\n",
      "'airport': 'Ninoy Aquino International                   29\n",
      "'airport': 'Tan Son Nhat International                   28\n",
      "'airport': 'Narita International Airport                 28\n",
      "'airport': 'Sydney Kingsford Smith Airport               25\n",
      "'airport': 'Brisbane International                       25\n",
      "'airport': 'Gimhae                                       24\n",
      "'airport': 'Noibai International                         22\n",
      "'airport': 'Kansai International                         21\n",
      "'airport': 'Auckland International                       20\n",
      "'airport': 'Haikou                                       19\n",
      "'airport': 'Shanghai Pudong International                19\n",
      "'airport': 'Tianhe International                         17\n",
      "'airport': 'Nanjing Lukou International Airport          15\n",
      "Name: count, dtype: int64\n"
     ]
    }
   ],
   "source": [
    "df_airports = pd.read_csv('airport_names.csv', header=None, names=['departure airport names'])\n",
    "\n",
    "frequency_counts = df_airports['departure airport names'].value_counts()\n",
    "print(frequency_counts.head(20))"
   ]
  },
  {
   "cell_type": "code",
   "execution_count": 168,
   "metadata": {},
   "outputs": [
    {
     "data": {
      "text/html": [
       "<div>\n",
       "<style scoped>\n",
       "    .dataframe tbody tr th:only-of-type {\n",
       "        vertical-align: middle;\n",
       "    }\n",
       "\n",
       "    .dataframe tbody tr th {\n",
       "        vertical-align: top;\n",
       "    }\n",
       "\n",
       "    .dataframe thead th {\n",
       "        text-align: right;\n",
       "    }\n",
       "</style>\n",
       "<table border=\"1\" class=\"dataframe\">\n",
       "  <thead>\n",
       "    <tr style=\"text-align: right;\">\n",
       "      <th></th>\n",
       "      <th>delay in departure</th>\n",
       "      <th>departure airport names</th>\n",
       "    </tr>\n",
       "  </thead>\n",
       "  <tbody>\n",
       "    <tr>\n",
       "      <th>0</th>\n",
       "      <td>NaN</td>\n",
       "      <td>'airport': 'Oenpelli</td>\n",
       "    </tr>\n",
       "    <tr>\n",
       "      <th>1</th>\n",
       "      <td>NaN</td>\n",
       "      <td>'airport': 'Sydney Bankstown</td>\n",
       "    </tr>\n",
       "    <tr>\n",
       "      <th>2</th>\n",
       "      <td>8.0</td>\n",
       "      <td>'airport': 'Haneda Airport</td>\n",
       "    </tr>\n",
       "    <tr>\n",
       "      <th>3</th>\n",
       "      <td>5.0</td>\n",
       "      <td>'airport': 'Taiwan Taoyuan International (Chia...</td>\n",
       "    </tr>\n",
       "    <tr>\n",
       "      <th>4</th>\n",
       "      <td>14.0</td>\n",
       "      <td>'airport': 'Ninoy Aquino International</td>\n",
       "    </tr>\n",
       "    <tr>\n",
       "      <th>...</th>\n",
       "      <td>...</td>\n",
       "      <td>...</td>\n",
       "    </tr>\n",
       "    <tr>\n",
       "      <th>1594</th>\n",
       "      <td>20.0</td>\n",
       "      <td>'airport': 'Singapore Changi</td>\n",
       "    </tr>\n",
       "    <tr>\n",
       "      <th>1595</th>\n",
       "      <td>15.0</td>\n",
       "      <td>'airport': 'Auckland International</td>\n",
       "    </tr>\n",
       "    <tr>\n",
       "      <th>1596</th>\n",
       "      <td>15.0</td>\n",
       "      <td>'airport': 'Auckland International</td>\n",
       "    </tr>\n",
       "    <tr>\n",
       "      <th>1597</th>\n",
       "      <td>7.0</td>\n",
       "      <td>'airport': 'Melbourne - Tullamarine Airport</td>\n",
       "    </tr>\n",
       "    <tr>\n",
       "      <th>1598</th>\n",
       "      <td>1.0</td>\n",
       "      <td>'airport': 'Melbourne - Tullamarine Airport</td>\n",
       "    </tr>\n",
       "  </tbody>\n",
       "</table>\n",
       "<p>1599 rows × 2 columns</p>\n",
       "</div>"
      ],
      "text/plain": [
       "      delay in departure                            departure airport names\n",
       "0                    NaN                               'airport': 'Oenpelli\n",
       "1                    NaN                       'airport': 'Sydney Bankstown\n",
       "2                    8.0                         'airport': 'Haneda Airport\n",
       "3                    5.0  'airport': 'Taiwan Taoyuan International (Chia...\n",
       "4                   14.0             'airport': 'Ninoy Aquino International\n",
       "...                  ...                                                ...\n",
       "1594                20.0                       'airport': 'Singapore Changi\n",
       "1595                15.0                 'airport': 'Auckland International\n",
       "1596                15.0                 'airport': 'Auckland International\n",
       "1597                 7.0        'airport': 'Melbourne - Tullamarine Airport\n",
       "1598                 1.0        'airport': 'Melbourne - Tullamarine Airport\n",
       "\n",
       "[1599 rows x 2 columns]"
      ]
     },
     "execution_count": 168,
     "metadata": {},
     "output_type": "execute_result"
    }
   ],
   "source": [
    "df_airports_dep = df[['delay in departure', 'departure airport names']]\n",
    "df_airports_dep"
   ]
  },
  {
   "cell_type": "code",
   "execution_count": 210,
   "metadata": {},
   "outputs": [],
   "source": [
    "filtered_df2 = df_airports_dep[df_airports_dep['departure airport names'] == \"'airport': 'Shanghai Pudong International\"]"
   ]
  },
  {
   "cell_type": "code",
   "execution_count": 211,
   "metadata": {},
   "outputs": [
    {
     "data": {
      "text/plain": [
       "17.38095238095238"
      ]
     },
     "execution_count": 211,
     "metadata": {},
     "output_type": "execute_result"
    }
   ],
   "source": [
    "filtered_df2['delay in departure'].mean()"
   ]
  },
  {
   "cell_type": "markdown",
   "metadata": {},
   "source": [
    "Singapore Changi: 29.80821917808219  \n",
    "Seoul (Incheon): 20.09090909090909  \n",
    "Kuala Lumpur International Airport (klia): 19.75  \n",
    "Hong Kong International: 22.2  \n",
    "Perth International: 17.0  \n",
    "Melbourne - Tullamarine Airport: 15.221052631578948  \n",
    "Suvarnabhumi International: 31.363636363636363  \n",
    "Auckland International: 14.84375  \n",
    "Heathrow: 19.375  \n",
    "Shanghai Pudong International: 17.38095238095238  \n"
   ]
  },
  {
   "cell_type": "code",
   "execution_count": 213,
   "metadata": {},
   "outputs": [
    {
     "data": {
      "text/html": [
       "<div>\n",
       "<style scoped>\n",
       "    .dataframe tbody tr th:only-of-type {\n",
       "        vertical-align: middle;\n",
       "    }\n",
       "\n",
       "    .dataframe tbody tr th {\n",
       "        vertical-align: top;\n",
       "    }\n",
       "\n",
       "    .dataframe thead th {\n",
       "        text-align: right;\n",
       "    }\n",
       "</style>\n",
       "<table border=\"1\" class=\"dataframe\">\n",
       "  <thead>\n",
       "    <tr style=\"text-align: right;\">\n",
       "      <th></th>\n",
       "      <th>delay in arrival</th>\n",
       "      <th>arrival airport names</th>\n",
       "    </tr>\n",
       "  </thead>\n",
       "  <tbody>\n",
       "    <tr>\n",
       "      <th>0</th>\n",
       "      <td>NaN</td>\n",
       "      <td>'airport': 'Maningrida</td>\n",
       "    </tr>\n",
       "    <tr>\n",
       "      <th>1</th>\n",
       "      <td>15.0</td>\n",
       "      <td>'airport': 'Williamtown</td>\n",
       "    </tr>\n",
       "    <tr>\n",
       "      <th>2</th>\n",
       "      <td>NaN</td>\n",
       "      <td>'airport': 'Hong Kong International</td>\n",
       "    </tr>\n",
       "    <tr>\n",
       "      <th>3</th>\n",
       "      <td>NaN</td>\n",
       "      <td>'airport': 'Singapore Changi</td>\n",
       "    </tr>\n",
       "    <tr>\n",
       "      <th>4</th>\n",
       "      <td>NaN</td>\n",
       "      <td>'airport': 'Malay</td>\n",
       "    </tr>\n",
       "    <tr>\n",
       "      <th>...</th>\n",
       "      <td>...</td>\n",
       "      <td>...</td>\n",
       "    </tr>\n",
       "    <tr>\n",
       "      <th>1594</th>\n",
       "      <td>NaN</td>\n",
       "      <td>'airport': 'Indira Gandhi International</td>\n",
       "    </tr>\n",
       "    <tr>\n",
       "      <th>1595</th>\n",
       "      <td>NaN</td>\n",
       "      <td>'airport': 'Queenstown</td>\n",
       "    </tr>\n",
       "    <tr>\n",
       "      <th>1596</th>\n",
       "      <td>NaN</td>\n",
       "      <td>'airport': 'Christchurch International</td>\n",
       "    </tr>\n",
       "    <tr>\n",
       "      <th>1597</th>\n",
       "      <td>NaN</td>\n",
       "      <td>'airport': 'Brisbane International</td>\n",
       "    </tr>\n",
       "    <tr>\n",
       "      <th>1598</th>\n",
       "      <td>NaN</td>\n",
       "      <td>'airport': 'Singapore Changi</td>\n",
       "    </tr>\n",
       "  </tbody>\n",
       "</table>\n",
       "<p>1599 rows × 2 columns</p>\n",
       "</div>"
      ],
      "text/plain": [
       "      delay in arrival                    arrival airport names\n",
       "0                  NaN                   'airport': 'Maningrida\n",
       "1                 15.0                  'airport': 'Williamtown\n",
       "2                  NaN      'airport': 'Hong Kong International\n",
       "3                  NaN             'airport': 'Singapore Changi\n",
       "4                  NaN                        'airport': 'Malay\n",
       "...                ...                                      ...\n",
       "1594               NaN  'airport': 'Indira Gandhi International\n",
       "1595               NaN                   'airport': 'Queenstown\n",
       "1596               NaN   'airport': 'Christchurch International\n",
       "1597               NaN       'airport': 'Brisbane International\n",
       "1598               NaN             'airport': 'Singapore Changi\n",
       "\n",
       "[1599 rows x 2 columns]"
      ]
     },
     "execution_count": 213,
     "metadata": {},
     "output_type": "execute_result"
    }
   ],
   "source": [
    "df_airports_arr = df[['delay in arrival', 'arrival airport names']]\n",
    "df_airports_arr"
   ]
  },
  {
   "cell_type": "code",
   "execution_count": 248,
   "metadata": {},
   "outputs": [],
   "source": [
    "filtered_df3 = df_airports_arr[df_airports_arr['arrival airport names'] == \"'airport': 'Shanghai Pudong International\"]"
   ]
  },
  {
   "cell_type": "code",
   "execution_count": 249,
   "metadata": {},
   "outputs": [
    {
     "data": {
      "text/plain": [
       "6.75"
      ]
     },
     "execution_count": 249,
     "metadata": {},
     "output_type": "execute_result"
    }
   ],
   "source": [
    "filtered_df3['delay in arrival'].mean()"
   ]
  },
  {
   "cell_type": "markdown",
   "metadata": {},
   "source": [
    "Singapore Changi: 7.407407407407407  \n",
    "Seoul (Incheon): 5.25  \n",
    "Kuala Lumpur International Airport (klia): 9.11111111111111  \n",
    "Hong Kong International: 8.833333333333334  \n",
    "Perth International: 5.545454545454546  \n",
    "Melbourne - Tullamarine Airport: 6.625  \n",
    "Suvarnabhumi International: 4.333333333333333  \n",
    "Auckland International: 4.076923076923077  \n",
    "Heathrow: 7.22222222222  \n",
    "Shanghai Pudong International: 6.75  "
   ]
  }
 ],
 "metadata": {
  "kernelspec": {
   "display_name": "Python 3",
   "language": "python",
   "name": "python3"
  },
  "language_info": {
   "codemirror_mode": {
    "name": "ipython",
    "version": 3
   },
   "file_extension": ".py",
   "mimetype": "text/x-python",
   "name": "python",
   "nbconvert_exporter": "python",
   "pygments_lexer": "ipython3",
   "version": "3.10.6"
  }
 },
 "nbformat": 4,
 "nbformat_minor": 2
}
