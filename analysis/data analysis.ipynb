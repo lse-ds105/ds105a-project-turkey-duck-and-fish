{
 "cells": [
  {
   "cell_type": "markdown",
   "metadata": {},
   "source": [
    "import file"
   ]
  },
  {
   "cell_type": "code",
   "execution_count": 19,
   "metadata": {},
   "outputs": [],
   "source": [
    "import os\n",
    "import pandas as pd\n",
    "from pprint import pprint\n",
    "\n",
    "# Specify the folder path\n",
    "folder_path = './all data.csv'\n",
    "\n",
    "df = pd.read_csv(folder_path)"
   ]
  },
  {
   "cell_type": "markdown",
   "metadata": {},
   "source": [
    "filter data to have companies"
   ]
  },
  {
   "cell_type": "code",
   "execution_count": null,
   "metadata": {},
   "outputs": [],
   "source": [
    "import pandas as pd\n",
    "from io import StringIO\n",
    "\n",
    "# Extract the information from 'airport' to the first comma\n",
    "df['departure'] = df['departure'].apply(lambda x: x.split(',')[0][1:-1])\n",
    "df['arrival'] = df['arrival'].apply(lambda x: x.split(',')[0][1:-1])\n",
    "\n",
    "# Display the updated DataFrame\n",
    "print(df[['departure', 'arrival']])\n",
    "\n",
    "# Create a new DataFrame with only 'departure' and 'arrival' columns\n",
    "filtered_df = df[['departure', 'arrival']]\n",
    "\n",
    "# Save the new DataFrame to a new CSV file\n",
    "filtered_df.to_csv('airport_names.csv', index=False)"
   ]
  },
  {
   "cell_type": "markdown",
   "metadata": {},
   "source": [
    "filter data to have delays"
   ]
  },
  {
   "cell_type": "code",
   "execution_count": null,
   "metadata": {},
   "outputs": [],
   "source": [
    "# Extract the information starting from 'delay': all the way to the first comma for the 'departure' column\n",
    "df['departure'] = df['departure'].apply(lambda x: x.split('delay\\': ')[1].split(',')[0])\n",
    "df['arrival'] = df['arrival'].apply(lambda x: x.split('delay\\': ')[1].split(',')[0])\n",
    "\n",
    "delay_df = df[['departure', 'arrival']]\n",
    "delay_df.to_csv('airport_delays.csv', index=False)"
   ]
  },
  {
   "cell_type": "markdown",
   "metadata": {},
   "source": [
    "filter data to airway companies"
   ]
  },
  {
   "cell_type": "code",
   "execution_count": 21,
   "metadata": {},
   "outputs": [],
   "source": [
    "df['airline'] = df['airline'].apply(lambda x: x.split('name\\': ')[1].split(',')[0])\n",
    "\n",
    "airwaynames_df = df[['airline']]\n",
    "airwaynames_df.to_csv('airway_names.csv', index=False)"
   ]
  }
 ],
 "metadata": {
  "kernelspec": {
   "display_name": "Python 3",
   "language": "python",
   "name": "python3"
  },
  "language_info": {
   "codemirror_mode": {
    "name": "ipython",
    "version": 3
   },
   "file_extension": ".py",
   "mimetype": "text/x-python",
   "name": "python",
   "nbconvert_exporter": "python",
   "pygments_lexer": "ipython3",
   "version": "3.10.6"
  }
 },
 "nbformat": 4,
 "nbformat_minor": 2
}
